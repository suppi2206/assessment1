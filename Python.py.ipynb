{
 "cells": [
  {
   "cell_type": "code",
   "execution_count": 1,
   "id": "2e5047b1",
   "metadata": {},
   "outputs": [
    {
     "name": "stdout",
     "output_type": "stream",
     "text": [
      "enter the fibbonacci number...10\n",
      "0\n",
      "1\n",
      "1\n",
      "2\n",
      "3\n",
      "5\n",
      "8\n",
      "13\n",
      "21\n",
      "34\n"
     ]
    }
   ],
   "source": [
    "a = int(input(\"enter the fibbonacci number...\"))\n",
    "n = 0\n",
    "n1 = 1\n",
    "s = 0\n",
    "if a<0 :\n",
    "    print(\"no out\")\n",
    "    \n",
    "else :\n",
    "    for i in range(a) :\n",
    "        print(s)\n",
    "        n = n1\n",
    "        n1 = s\n",
    "        s = n+n1\n",
    "        "
   ]
  },
  {
   "cell_type": "code",
   "execution_count": 1,
   "id": "ff327c8b",
   "metadata": {},
   "outputs": [
    {
     "name": "stdout",
     "output_type": "stream",
     "text": [
      "enter the name:Edyoda\n",
      "reverse_string is: E\n",
      "reverse_string is: dE\n",
      "reverse_string is: ydE\n",
      "reverse_string is: oydE\n",
      "reverse_string is: doydE\n",
      "reverse_string is: adoydE\n"
     ]
    }
   ],
   "source": [
    "a=input(\"enter the name:\")\n",
    "def  reverse(string):\n",
    "    reverse_string=\"\"\n",
    "    for i in string:\n",
    "        reverse_string=i+reverse_string\n",
    "        print(\"reverse_string is:\",reverse_string)\n",
    "reverse(a) "
   ]
  },
  {
   "cell_type": "code",
   "execution_count": 2,
   "id": "d7c9ee8c",
   "metadata": {},
   "outputs": [
    {
     "name": "stdout",
     "output_type": "stream",
     "text": [
      "even number is: 4\n",
      "odd number is: 5\n"
     ]
    }
   ],
   "source": [
    "numbers=(1,2,3,4,5,6,7,8,9)\n",
    "even=0\n",
    "odd=0\n",
    "for i in numbers:\n",
    "    if not i%2:\n",
    "        even +=1\n",
    "    else:\n",
    "        odd+=1\n",
    "print(\"even number is:\",even) \n",
    "print(\"odd number is:\",odd)"
   ]
  },
  {
   "cell_type": "code",
   "execution_count": null,
   "id": "2146e6b3",
   "metadata": {},
   "outputs": [],
   "source": []
  }
 ],
 "metadata": {
  "kernelspec": {
   "display_name": "Python 3 (ipykernel)",
   "language": "python",
   "name": "python3"
  },
  "language_info": {
   "codemirror_mode": {
    "name": "ipython",
    "version": 3
   },
   "file_extension": ".py",
   "mimetype": "text/x-python",
   "name": "python",
   "nbconvert_exporter": "python",
   "pygments_lexer": "ipython3",
   "version": "3.10.6"
  }
 },
 "nbformat": 4,
 "nbformat_minor": 5
}
